{
 "cells": [
  {
   "cell_type": "markdown",
   "metadata": {
    "id": "Ag8ND4u_5UdB"
   },
   "source": [
    "# Mount drive into colab"
   ]
  },
  {
   "cell_type": "code",
   "execution_count": 24,
   "metadata": {
    "id": "eeBG7fho5UdJ"
   },
   "outputs": [],
   "source": [
    "# from google.colab import drive\n",
    "\n",
    "# drive.mount('/content/drive')"
   ]
  },
  {
   "cell_type": "markdown",
   "metadata": {
    "id": "QRXKc8-S5UdK"
   },
   "source": [
    "# Read CSV file with encoding 'cp949'"
   ]
  },
  {
   "cell_type": "code",
   "execution_count": 25,
   "metadata": {
    "colab": {
     "base_uri": "https://localhost:8080/",
     "height": 439
    },
    "executionInfo": {
     "elapsed": 3373,
     "status": "error",
     "timestamp": 1612440196597,
     "user": {
      "displayName": "손승현",
      "photoUrl": "",
      "userId": "10997559572902362613"
     },
     "user_tz": -540
    },
    "id": "z1MU-YSy5UdK",
    "outputId": "a5a4f946-97e0-4921-a987-c918d1d1f6f3"
   },
   "outputs": [
    {
     "name": "stdout",
     "output_type": "stream",
     "text": [
      "Requirement already satisfied: pandas in c:\\programdata\\anaconda3\\lib\\site-packages (1.0.5)\n",
      "Requirement already satisfied: numpy>=1.13.3 in c:\\programdata\\anaconda3\\lib\\site-packages (from pandas) (1.18.5)\n",
      "Requirement already satisfied: pytz>=2017.2 in c:\\programdata\\anaconda3\\lib\\site-packages (from pandas) (2020.1)\n",
      "Requirement already satisfied: python-dateutil>=2.6.1 in c:\\programdata\\anaconda3\\lib\\site-packages (from pandas) (2.8.1)\n",
      "Requirement already satisfied: six>=1.5 in c:\\programdata\\anaconda3\\lib\\site-packages (from python-dateutil>=2.6.1->pandas) (1.15.0)\n"
     ]
    }
   ],
   "source": [
    "!pip install pandas\n",
    "\n",
    "import pandas as pd\n",
    "\n",
    "# df = pd.read_csv('/content/drive/MyDrive/Data_Science/FastCampus/Lecture/passenger_per_hour.csv', encoding='cp949')\n",
    "# df = pd.read_csv('/content/서울시 지하철 호선별 역별 시간대별 승하차 인원 정보.csv', encoding='euc-kr') : colab (without mount)\n",
    "df = pd.read_csv('passenger_per_hour.csv', encoding='cp949')"
   ]
  },
  {
   "cell_type": "code",
   "execution_count": 10,
   "metadata": {
    "colab": {
     "base_uri": "https://localhost:8080/"
    },
    "executionInfo": {
     "elapsed": 632,
     "status": "ok",
     "timestamp": 1612440092669,
     "user": {
      "displayName": "손승현",
      "photoUrl": "",
      "userId": "10997559572902362613"
     },
     "user_tz": -540
    },
    "id": "FeO711HS5UdL",
    "outputId": "ae92892c-4922-447d-a811-f08588a3ac1b"
   },
   "outputs": [
    {
     "name": "stdout",
     "output_type": "stream",
     "text": [
      "<class 'pandas.core.frame.DataFrame'>\n",
      "RangeIndex: 41699 entries, 0 to 41698\n",
      "Data columns (total 52 columns):\n",
      " #   Column        Non-Null Count  Dtype \n",
      "---  ------        --------------  ----- \n",
      " 0   사용월           41699 non-null  int64 \n",
      " 1   호선명           41699 non-null  object\n",
      " 2   지하철역          41699 non-null  object\n",
      " 3   04시-05시 승차인원  41699 non-null  int64 \n",
      " 4   04시-05시 하차인원  41699 non-null  int64 \n",
      " 5   05시-06시 승차인원  41699 non-null  int64 \n",
      " 6   05시-06시 하차인원  41699 non-null  int64 \n",
      " 7   06시-07시 승차인원  41699 non-null  int64 \n",
      " 8   06시-07시 하차인원  41699 non-null  int64 \n",
      " 9   07시-08시 승차인원  41699 non-null  int64 \n",
      " 10  07시-08시 하차인원  41699 non-null  int64 \n",
      " 11  08시-09시 승차인원  41699 non-null  int64 \n",
      " 12  08시-09시 하차인원  41699 non-null  int64 \n",
      " 13  09시-10시 승차인원  41699 non-null  int64 \n",
      " 14  09시-10시 하차인원  41699 non-null  int64 \n",
      " 15  10시-11시 승차인원  41699 non-null  int64 \n",
      " 16  10시-11시 하차인원  41699 non-null  int64 \n",
      " 17  11시-12시 승차인원  41699 non-null  int64 \n",
      " 18  11시-12시 하차인원  41699 non-null  int64 \n",
      " 19  12시-13시 승차인원  41699 non-null  int64 \n",
      " 20  12시-13시 하차인원  41699 non-null  int64 \n",
      " 21  13시-14시 승차인원  41699 non-null  int64 \n",
      " 22  13시-14시 하차인원  41699 non-null  int64 \n",
      " 23  14시-15시 승차인원  41699 non-null  int64 \n",
      " 24  14시-15시 하차인원  41699 non-null  int64 \n",
      " 25  15시-16시 승차인원  41699 non-null  int64 \n",
      " 26  15시-16시 하차인원  41699 non-null  int64 \n",
      " 27  16시-17시 승차인원  41699 non-null  int64 \n",
      " 28  16시-17시 하차인원  41699 non-null  int64 \n",
      " 29  17시-18시 승차인원  41699 non-null  int64 \n",
      " 30  17시-18시 하차인원  41699 non-null  int64 \n",
      " 31  18시-19시 승차인원  41699 non-null  int64 \n",
      " 32  18시-19시 하차인원  41699 non-null  int64 \n",
      " 33  19시-20시 승차인원  41699 non-null  int64 \n",
      " 34  19시-20시 하차인원  41699 non-null  int64 \n",
      " 35  20시-21시 승차인원  41699 non-null  int64 \n",
      " 36  20시-21시 하차인원  41699 non-null  int64 \n",
      " 37  21시-22시 승차인원  41699 non-null  int64 \n",
      " 38  21시-22시 하차인원  41699 non-null  int64 \n",
      " 39  22시-23시 승차인원  41699 non-null  int64 \n",
      " 40  22시-23시 하차인원  41699 non-null  int64 \n",
      " 41  23시-24시 승차인원  41699 non-null  int64 \n",
      " 42  23시-24시 하차인원  41699 non-null  int64 \n",
      " 43  00시-01시 승차인원  41699 non-null  int64 \n",
      " 44  00시-01시 하차인원  41699 non-null  int64 \n",
      " 45  01시-02시 승차인원  41699 non-null  int64 \n",
      " 46  01시-02시 하차인원  41699 non-null  int64 \n",
      " 47  02시-03시 승차인원  41699 non-null  int64 \n",
      " 48  02시-03시 하차인원  41699 non-null  int64 \n",
      " 49  03시-04시 승차인원  41699 non-null  int64 \n",
      " 50  03시-04시 하차인원  41699 non-null  int64 \n",
      " 51  작업일자          41699 non-null  int64 \n",
      "dtypes: int64(50), object(2)\n",
      "memory usage: 16.5+ MB\n"
     ]
    }
   ],
   "source": [
    "df.info()    # understand a dataframe form"
   ]
  },
  {
   "cell_type": "code",
   "execution_count": 26,
   "metadata": {
    "colab": {
     "base_uri": "https://localhost:8080/",
     "height": 490
    },
    "executionInfo": {
     "elapsed": 1085,
     "status": "ok",
     "timestamp": 1612440098639,
     "user": {
      "displayName": "손승현",
      "photoUrl": "",
      "userId": "10997559572902362613"
     },
     "user_tz": -540
    },
    "id": "iIaBZQ5L5UdM",
    "outputId": "2978aa2a-c0d3-4f0e-ca6d-1abe677f7d10"
   },
   "outputs": [
    {
     "name": "stderr",
     "output_type": "stream",
     "text": [
      "C:\\ProgramData\\Anaconda3\\lib\\site-packages\\pandas\\core\\frame.py:4125: SettingWithCopyWarning: \n",
      "A value is trying to be set on a copy of a slice from a DataFrame\n",
      "\n",
      "See the caveats in the documentation: https://pandas.pydata.org/pandas-docs/stable/user_guide/indexing.html#returning-a-view-versus-a-copy\n",
      "  return super().rename(\n"
     ]
    },
    {
     "data": {
      "text/html": [
       "<div>\n",
       "<style scoped>\n",
       "    .dataframe tbody tr th:only-of-type {\n",
       "        vertical-align: middle;\n",
       "    }\n",
       "\n",
       "    .dataframe tbody tr th {\n",
       "        vertical-align: top;\n",
       "    }\n",
       "\n",
       "    .dataframe thead th {\n",
       "        text-align: right;\n",
       "    }\n",
       "</style>\n",
       "<table border=\"1\" class=\"dataframe\">\n",
       "  <thead>\n",
       "    <tr style=\"text-align: right;\">\n",
       "      <th></th>\n",
       "      <th>months</th>\n",
       "      <th>station_line</th>\n",
       "      <th>station_name</th>\n",
       "      <th>from06_to10</th>\n",
       "      <th>from10_to14</th>\n",
       "      <th>from14_to18</th>\n",
       "      <th>from18_to22</th>\n",
       "      <th>from22_to02</th>\n",
       "      <th>from02_to06</th>\n",
       "    </tr>\n",
       "  </thead>\n",
       "  <tbody>\n",
       "    <tr>\n",
       "      <th>0</th>\n",
       "      <td>202012</td>\n",
       "      <td>1호선</td>\n",
       "      <td>동대문</td>\n",
       "      <td>25024.50</td>\n",
       "      <td>31739.25</td>\n",
       "      <td>35749.25</td>\n",
       "      <td>25071.75</td>\n",
       "      <td>4760.75</td>\n",
       "      <td>3742.75</td>\n",
       "    </tr>\n",
       "    <tr>\n",
       "      <th>1</th>\n",
       "      <td>202012</td>\n",
       "      <td>1호선</td>\n",
       "      <td>동묘앞</td>\n",
       "      <td>15002.25</td>\n",
       "      <td>32641.00</td>\n",
       "      <td>42440.00</td>\n",
       "      <td>13138.75</td>\n",
       "      <td>1677.75</td>\n",
       "      <td>913.50</td>\n",
       "    </tr>\n",
       "    <tr>\n",
       "      <th>2</th>\n",
       "      <td>202012</td>\n",
       "      <td>1호선</td>\n",
       "      <td>서울역</td>\n",
       "      <td>111150.00</td>\n",
       "      <td>75784.50</td>\n",
       "      <td>102694.25</td>\n",
       "      <td>107911.50</td>\n",
       "      <td>9021.50</td>\n",
       "      <td>3411.25</td>\n",
       "    </tr>\n",
       "    <tr>\n",
       "      <th>3</th>\n",
       "      <td>202012</td>\n",
       "      <td>1호선</td>\n",
       "      <td>시청</td>\n",
       "      <td>72207.00</td>\n",
       "      <td>31866.25</td>\n",
       "      <td>45816.50</td>\n",
       "      <td>58524.25</td>\n",
       "      <td>3514.50</td>\n",
       "      <td>1263.00</td>\n",
       "    </tr>\n",
       "    <tr>\n",
       "      <th>4</th>\n",
       "      <td>202012</td>\n",
       "      <td>1호선</td>\n",
       "      <td>신설동</td>\n",
       "      <td>41062.50</td>\n",
       "      <td>30427.25</td>\n",
       "      <td>39380.50</td>\n",
       "      <td>36655.50</td>\n",
       "      <td>3287.50</td>\n",
       "      <td>2640.00</td>\n",
       "    </tr>\n",
       "    <tr>\n",
       "      <th>...</th>\n",
       "      <td>...</td>\n",
       "      <td>...</td>\n",
       "      <td>...</td>\n",
       "      <td>...</td>\n",
       "      <td>...</td>\n",
       "      <td>...</td>\n",
       "      <td>...</td>\n",
       "      <td>...</td>\n",
       "      <td>...</td>\n",
       "    </tr>\n",
       "    <tr>\n",
       "      <th>598</th>\n",
       "      <td>202012</td>\n",
       "      <td>중앙선</td>\n",
       "      <td>원덕</td>\n",
       "      <td>658.75</td>\n",
       "      <td>822.25</td>\n",
       "      <td>1009.75</td>\n",
       "      <td>471.00</td>\n",
       "      <td>74.00</td>\n",
       "      <td>72.50</td>\n",
       "    </tr>\n",
       "    <tr>\n",
       "      <th>599</th>\n",
       "      <td>202012</td>\n",
       "      <td>중앙선</td>\n",
       "      <td>중랑</td>\n",
       "      <td>17107.00</td>\n",
       "      <td>10572.75</td>\n",
       "      <td>13938.00</td>\n",
       "      <td>15654.75</td>\n",
       "      <td>1849.25</td>\n",
       "      <td>1477.25</td>\n",
       "    </tr>\n",
       "    <tr>\n",
       "      <th>600</th>\n",
       "      <td>202012</td>\n",
       "      <td>중앙선</td>\n",
       "      <td>지평</td>\n",
       "      <td>127.50</td>\n",
       "      <td>108.50</td>\n",
       "      <td>125.50</td>\n",
       "      <td>64.75</td>\n",
       "      <td>0.00</td>\n",
       "      <td>0.00</td>\n",
       "    </tr>\n",
       "    <tr>\n",
       "      <th>601</th>\n",
       "      <td>202012</td>\n",
       "      <td>중앙선</td>\n",
       "      <td>팔당</td>\n",
       "      <td>2347.00</td>\n",
       "      <td>2456.75</td>\n",
       "      <td>2980.50</td>\n",
       "      <td>2095.75</td>\n",
       "      <td>243.00</td>\n",
       "      <td>57.50</td>\n",
       "    </tr>\n",
       "    <tr>\n",
       "      <th>602</th>\n",
       "      <td>202012</td>\n",
       "      <td>중앙선</td>\n",
       "      <td>회기</td>\n",
       "      <td>62102.00</td>\n",
       "      <td>50163.50</td>\n",
       "      <td>64674.25</td>\n",
       "      <td>60807.25</td>\n",
       "      <td>9555.75</td>\n",
       "      <td>3068.50</td>\n",
       "    </tr>\n",
       "  </tbody>\n",
       "</table>\n",
       "<p>603 rows × 9 columns</p>\n",
       "</div>"
      ],
      "text/plain": [
       "     months station_line station_name  from06_to10  from10_to14  from14_to18  \\\n",
       "0    202012          1호선          동대문     25024.50     31739.25     35749.25   \n",
       "1    202012          1호선          동묘앞     15002.25     32641.00     42440.00   \n",
       "2    202012          1호선          서울역    111150.00     75784.50    102694.25   \n",
       "3    202012          1호선           시청     72207.00     31866.25     45816.50   \n",
       "4    202012          1호선          신설동     41062.50     30427.25     39380.50   \n",
       "..      ...          ...          ...          ...          ...          ...   \n",
       "598  202012          중앙선           원덕       658.75       822.25      1009.75   \n",
       "599  202012          중앙선           중랑     17107.00     10572.75     13938.00   \n",
       "600  202012          중앙선           지평       127.50       108.50       125.50   \n",
       "601  202012          중앙선           팔당      2347.00      2456.75      2980.50   \n",
       "602  202012          중앙선           회기     62102.00     50163.50     64674.25   \n",
       "\n",
       "     from18_to22  from22_to02  from02_to06  \n",
       "0       25071.75      4760.75      3742.75  \n",
       "1       13138.75      1677.75       913.50  \n",
       "2      107911.50      9021.50      3411.25  \n",
       "3       58524.25      3514.50      1263.00  \n",
       "4       36655.50      3287.50      2640.00  \n",
       "..           ...          ...          ...  \n",
       "598       471.00        74.00        72.50  \n",
       "599     15654.75      1849.25      1477.25  \n",
       "600        64.75         0.00         0.00  \n",
       "601      2095.75       243.00        57.50  \n",
       "602     60807.25      9555.75      3068.50  \n",
       "\n",
       "[603 rows x 9 columns]"
      ]
     },
     "execution_count": 26,
     "metadata": {},
     "output_type": "execute_result"
    }
   ],
   "source": [
    "import pandas as pd\n",
    "\n",
    "# raw_df = pd.read_csv('/content/drive/MyDrive/Data_Science/FastCampus/Lecture/passenger_per_hour.csv', encoding='cp949')  \n",
    "# raw_df = pd.read_csv('/content/서울시 지하철 호선별 역별 시간대별 승하차 인원 정보.csv', encoding='euc-kr') : colab (without mount)\n",
    "raw_df = pd.read_csv('passenger_per_hour.csv', encoding='cp949')\n",
    "\n",
    "# data preprocesing\n",
    "sliced_df = raw_df[['사용월', '호선명', '지하철역']]\n",
    "sliced_df.rename(columns = {'사용월':'months','호선명':'station_line','지하철역':'station_name'}, inplace=True)\n",
    "\n",
    "# an 1hour step -> 4hours\n",
    "f06_t10 = (raw_df['06시-07시 승차인원'] + raw_df['06시-07시 하차인원'] +  raw_df['07시-08시 승차인원'] +  raw_df['07시-08시 하차인원'] + raw_df['08시-09시 승차인원'] +  raw_df['08시-09시 하차인원'] + raw_df['09시-10시 승차인원'] + raw_df['09시-10시 하차인원'])/4\n",
    "f10_t14 = (raw_df['10시-11시 승차인원'] + raw_df['10시-11시 하차인원'] + raw_df['11시-12시 승차인원'] + raw_df['11시-12시 하차인원'] + raw_df['12시-13시 승차인원'] + raw_df['12시-13시 하차인원'] + raw_df['13시-14시 승차인원'] + raw_df['13시-14시 하차인원'])/4\n",
    "f14_t18 = (raw_df['14시-15시 승차인원'] + raw_df['14시-15시 하차인원'] + raw_df['15시-16시 승차인원'] + raw_df['15시-16시 하차인원'] + raw_df['16시-17시 승차인원'] + raw_df['16시-17시 하차인원'] + raw_df['17시-18시 승차인원'] + raw_df['17시-18시 하차인원'])/4\n",
    "f18_t22 = (raw_df['18시-19시 승차인원'] + raw_df['18시-19시 하차인원'] + raw_df['19시-20시 승차인원'] + raw_df['19시-20시 하차인원'] + raw_df['20시-21시 승차인원'] + raw_df['20시-21시 하차인원'] + raw_df['21시-22시 승차인원'] + raw_df['21시-22시 하차인원'])/4\n",
    "f22_t02 = (raw_df['22시-23시 승차인원'] + raw_df['22시-23시 하차인원'] + raw_df['23시-24시 승차인원'] + raw_df['23시-24시 하차인원'] + raw_df['00시-01시 승차인원'] + raw_df['00시-01시 하차인원'] + raw_df['01시-02시 승차인원'] + raw_df['01시-02시 하차인원'])/4\n",
    "f02_t06 = (raw_df['02시-03시 승차인원'] + raw_df['02시-03시 하차인원'] + raw_df['03시-04시 승차인원'] + raw_df['03시-04시 하차인원'] + raw_df['04시-05시 승차인원'] + raw_df['04시-05시 하차인원'] + raw_df['05시-06시 승차인원'] + raw_df['05시-06시 하차인원'] )/4\n",
    "\n",
    "preprocessed_df = pd.DataFrame({\n",
    "    'from06_to10'  : f06_t10, # modified variable name\n",
    "    'from10_to14' : f10_t14,\n",
    "    'from14_to18' : f14_t18,\n",
    "    'from18_to22' : f18_t22,\n",
    "    'from22_to02' : f22_t02,\n",
    "    'from02_to06' : f02_t06\n",
    "})\n",
    "\n",
    "temp_df = pd.concat([sliced_df, preprocessed_df], axis = 1)\n",
    "scaled_df=temp_df[temp_df['months']==202012]\n",
    "scaled_df"
   ]
  },
  {
   "cell_type": "markdown",
   "metadata": {
    "id": "2X1RTBYu5UdM"
   },
   "source": [
    "# Ref\n",
    "select columns: http://hleecaster.com/python-pandas-selecting-data/\n",
    "\n",
    "df.rename() : https://www.delftstack.com/ko/howto/python-pandas/how-to-rename-columns-in-pandas/\n"
   ]
  }
 ],
 "metadata": {
  "colab": {
   "collapsed_sections": [],
   "name": "complexity.ipynb",
   "provenance": [],
   "toc_visible": true
  },
  "kernelspec": {
   "display_name": "dataanalysis",
   "language": "python",
   "name": "dataanalysis"
  },
  "language_info": {
   "codemirror_mode": {
    "name": "ipython",
    "version": 3
   },
   "file_extension": ".py",
   "mimetype": "text/x-python",
   "name": "python",
   "nbconvert_exporter": "python",
   "pygments_lexer": "ipython3",
   "version": "3.8.3"
  }
 },
 "nbformat": 4,
 "nbformat_minor": 1
}
